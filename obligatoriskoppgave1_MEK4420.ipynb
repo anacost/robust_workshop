{
 "cells": [
  {
   "cell_type": "markdown",
   "metadata": {
    "extensions": {
     "jupyter_dashboards": {
      "version": 1,
      "views": {
       "grid_default": {
        "col": 0,
        "height": 4,
        "hidden": false,
        "row": 0,
        "width": 12
       },
       "report_default": {
        "hidden": false
       }
      }
     }
    }
   },
   "source": [
    "# MEK4420 - Obligatorisk oppgave1\n",
    "#### Ana Costa Conrado"
   ]
  },
  {
   "cell_type": "markdown",
   "metadata": {},
   "source": [
    "Click on a cell and click \"SHIFT + ENTER\" to execute it\n"
   ]
  },
  {
   "cell_type": "code",
   "execution_count": 8,
   "metadata": {
    "extensions": {
     "jupyter_dashboards": {
      "version": 1,
      "views": {
       "grid_default": {
        "hidden": true
       },
       "report_default": {
        "hidden": true
       }
      }
     }
    }
   },
   "outputs": [],
   "source": [
    "#Loading python packages:\n",
    "import sympy\n",
    "import numpy\n",
    "import matplotlib.pyplot\n",
    "%matplotlib inline\n",
    "import math\n",
    "from __future__ import division"
   ]
  },
  {
   "cell_type": "markdown",
   "metadata": {},
   "source": [
    "Function defined to integrate with Gaussian quadrature (2 points).\n",
    "N is the number of points at the circumference.\n",
    "nn is the normal\n",
    "\n"
   ]
  },
  {
   "cell_type": "code",
   "execution_count": 9,
   "metadata": {
    "extensions": {
     "jupyter_dashboards": {
      "version": 1,
      "views": {
       "grid_default": {
        "hidden": true
       },
       "report_default": {
        "hidden": true
       }
      }
     }
    }
   },
   "outputs": [],
   "source": [
    "def func(xp, yp, xm, ym, barx, bary, nn, N):\n",
    "     \n",
    "    ds = numpy.sqrt((xp - xm)**2 + (yp-ym)**2)\n",
    "    hh = numpy.zeros(N)\n",
    "    dtheta = numpy.zeros((N,N))   \n",
    "    for i in range(N):\n",
    "        helpv = 0\n",
    " \n",
    "        for j in range(N):\n",
    "             \n",
    "            if j-i == 0:\n",
    "                dtheta[i][j] = - math.pi\n",
    "            else:\n",
    "                a1 = xm[j] - barx[i]\n",
    "                a2 = ym[j] - bary[i]\n",
    "                b1 = xp[j] - barx[i]\n",
    "                b2 = yp[j] - bary[i]\n",
    "                \n",
    "                cosan = (a1*b1+a2*b2)/numpy.sqrt((a1**2+a2**2)*(b1**2+b2**2))\n",
    "                if cosan > 1:\n",
    "                    cosan = 1\n",
    "                if cosan < -1:\n",
    "                    cosan = -1      \n",
    "                \n",
    "                arg = numpy.arccos(cosan)    \n",
    "                dtheta[i][j] = -arg     \n",
    "            \n",
    "            x1g = 0.5*(xp[j]-xm[j])/math.sqrt(3)+barx[j]\n",
    "            y1g = 0.5*(yp[j]-ym[j])/math.sqrt(3)+bary[j]\n",
    "            x2g = -0.5*(xp[j]-xm[j])/math.sqrt(3)+barx[j]\n",
    "            y2g = -0.5*(yp[j]-ym[j])/math.sqrt(3)+bary[j]\n",
    "        \n",
    "                     \n",
    "            hh0 = numpy.log((x1g-barx[i])**2+(y1g-bary[i])**2)\n",
    "            \n",
    "            hh0 += numpy.log((x2g-barx[i])**2+(y2g-bary[i])**2)\n",
    "           \n",
    "            hh0 *= 0.5\n",
    "            \n",
    "            helpv += hh0*nn[j]*ds[j]/2.\n",
    " \n",
    "        hh[i] = helpv\n",
    "  \n",
    "    pdcr = numpy.linalg.lstsq(dtheta, hh.conj().transpose())\n",
    "    \n",
    "    da = sum(pdcr[0].conj().transpose() * nn * ds)  \n",
    "    return pdcr, da"
   ]
  },
  {
   "cell_type": "code",
   "execution_count": 3,
   "metadata": {
    "extensions": {
     "jupyter_dashboards": {
      "version": 1,
      "views": {
       "grid_default": {
        "col": 0,
        "height": 5,
        "hidden": false,
        "row": 4,
        "width": null
       },
       "report_default": {
        "hidden": false
       }
      }
     }
    }
   },
   "outputs": [
    {
     "data": {
      "image/svg+xml": [
       "<svg xmlns=\"http://www.w3.org/2000/svg\"\n",
       "            xmlns:xlink=\"http://www.w3.org/1999/xlink\"\n",
       "            width=\"100.0\" height=\"100.0\" viewBox=\"-1.20000000000000 -1.20000000000000 2.40000000000000 2.40000000000000\"\n",
       "            preserveAspectRatio=\"xMinYMin meet\">\n",
       "            <defs>\n",
       "                <marker id=\"markerCircle\" markerWidth=\"8\" markerHeight=\"8\"\n",
       "                    refx=\"5\" refy=\"5\" markerUnits=\"strokeWidth\">\n",
       "                    <circle cx=\"5\" cy=\"5\" r=\"1.5\" style=\"stroke: none; fill:#000000;\"/>\n",
       "                </marker>\n",
       "                <marker id=\"markerArrow\" markerWidth=\"13\" markerHeight=\"13\" refx=\"2\" refy=\"4\"\n",
       "                       orient=\"auto\" markerUnits=\"strokeWidth\">\n",
       "                    <path d=\"M2,2 L2,6 L6,4\" style=\"fill: #000000;\" />\n",
       "                </marker>\n",
       "                <marker id=\"markerReverseArrow\" markerWidth=\"13\" markerHeight=\"13\" refx=\"6\" refy=\"4\"\n",
       "                       orient=\"auto\" markerUnits=\"strokeWidth\">\n",
       "                    <path d=\"M6,2 L6,6 L2,4\" style=\"fill: #000000;\" />\n",
       "                </marker>\n",
       "            </defs><g transform=\"matrix(1,0,0,-1,0,0)\"><ellipse fill=\"#66cc99\" stroke=\"#555555\" stroke-width=\"0.0480000000000000\" opacity=\"0.6\" cx=\"0\" cy=\"0\" rx=\"1.00000000000000\" ry=\"1.00000000000000\"/></g></svg>"
      ],
      "text/plain": [
       "Circle(Point2D(0, 0), 1)"
      ]
     },
     "execution_count": 3,
     "metadata": {},
     "output_type": "execute_result"
    }
   ],
   "source": [
    "R0 = 1\n",
    "sympy.geometry.ellipse.Ellipse(center=sympy.geometry.Point(0,0), hradius=R0, vradius=R0, eccentricity=None)"
   ]
  },
  {
   "cell_type": "code",
   "execution_count": 18,
   "metadata": {
    "extensions": {
     "jupyter_dashboards": {
      "version": 1,
      "views": {
       "grid_default": {
        "col": 0,
        "height": 12,
        "hidden": false,
        "row": 9,
        "width": 4
       },
       "report_default": {
        "hidden": false
       }
      }
     }
    }
   },
   "outputs": [
    {
     "name": "stderr",
     "output_type": "stream",
     "text": [
      "/home/anacos/anaconda3/envs/workshop/lib/python3.6/site-packages/ipykernel_launcher.py:44: FutureWarning: `rcond` parameter will change to the default of machine precision times ``max(M, N)`` where M and N are the input matrix dimensions.\n",
      "To use the future default and silence this warning we advise to pass `rcond=None`, to keep using the old, explicitly pass `rcond=-1`.\n"
     ]
    },
    {
     "data": {
      "image/png": "[encoded data removed]",
      "text/plain": [
       "<matplotlib.figure.Figure at 0x7f48263cdcc0>"
      ]
     },
     "metadata": {},
     "output_type": "display_data"
    }
   ],
   "source": [
    "matplotlib.pyplot.rc('text', usetex=True)\n",
    "matplotlib.pyplot.rc('font', family='serif')\n",
    "fig = matplotlib.pyplot.figure(figsize=[40,10])\n",
    "R0 = 1\n",
    "a11 = []\n",
    "rho = 1\n",
    "m_ana11 = math.pi*rho*R0**2\n",
    "vector=[ 100, 200, 400]\n",
    "for l, N in enumerate(vector):\n",
    "    thetap = numpy.linspace(2*math.pi/N, 2*math.pi, N)\n",
    "    thetam = numpy.linspace(0, 2*math.pi*(N-1)/N, N)\n",
    "    xp = R0*numpy.cos(thetap)\n",
    "    yp = R0*numpy.sin(thetap)\n",
    "    xm = R0*numpy.cos(thetam)\n",
    "    ym = R0*numpy.sin(thetam)\n",
    "    barx = 0.5*(xp + xm)\n",
    "    bary = 0.5*(yp + ym)\n",
    "    ds = numpy.sqrt((xp - xm)**2 + (yp-ym)**2)\n",
    "\n",
    "    nn1 = -barx/numpy.sqrt(barx**2 + bary**2)\n",
    "    \n",
    "    pdcr1, a11j = func(xp, yp, xm, ym, barx, bary, nn1, N)\n",
    "\n",
    "    a11.append(a11j/m_ana11)\n",
    "        \n",
    "    pan = - barx/(barx**2 + bary**2)\n",
    "    ax= matplotlib.pyplot.subplot(1,len(vector),l+1)\n",
    "    ax.axis([0, 2*numpy.pi, -1.1, 1.1])\n",
    "    ax.plot(0.5*(thetap + thetam), pdcr1[0], '.', 0.5*(thetap + thetam), pan, linestyle='solid')#\n",
    "    matplotlib.pyplot.ylabel(r'$\\phi_1$', fontsize= 20, rotation='horizontal')\n",
    "    matplotlib.pyplot.xlabel(r' $\\theta  $ ', fontsize= 20)\n",
    "    \n",
    "    xlabel = 'N = ', str(N)\n",
    "    ax.set_title(xlabel)\n",
    "fig.savefig('Circle_potential.pdf')\n",
    "matplotlib.pyplot.show()"
   ]
  },
  {
   "cell_type": "code",
   "execution_count": 19,
   "metadata": {},
   "outputs": [
    {
     "data": {
      "image/png": "[encoded data removed]",
      "text/plain": [
       "<matplotlib.figure.Figure at 0x7f48268e2390>"
      ]
     },
     "metadata": {},
     "output_type": "display_data"
    }
   ],
   "source": [
    "fig2 = matplotlib.pyplot.figure(figsize=[10,10])\n",
    "matplotlib.pyplot.plot(1/numpy.array(vector), a11, '*')\n",
    "matplotlib.pyplot.ylabel(r'$\\frac{m_{11}}{\\rho \\pi R_0^2}$', fontsize= 20, rotation='horizontal')\n",
    "matplotlib.pyplot.xlabel(r' $\\frac{1}{N}  $ ', fontsize= 20)\n",
    "\n",
    "fig2.savefig('Circle.pdf')\n",
    "\n",
    "matplotlib.pyplot.show()"
   ]
  },
  {
   "cell_type": "code",
   "execution_count": 20,
   "metadata": {},
   "outputs": [
    {
     "name": "stdout",
     "output_type": "stream",
     "text": [
      "a11 :  [0.99091058490373, 0.9954559810564692, 0.99772807765119]\n"
     ]
    }
   ],
   "source": [
    "print('a11 : ', a11)"
   ]
  },
  {
   "cell_type": "code",
   "execution_count": 6,
   "metadata": {
    "extensions": {
     "jupyter_dashboards": {
      "version": 1,
      "views": {
       "grid_default": {
        "col": 4,
        "height": 5,
        "hidden": false,
        "row": 9,
        "width": null
       },
       "report_default": {
        "hidden": false
       }
      }
     }
    }
   },
   "outputs": [
    {
     "data": {
      "image/svg+xml": [
       "<svg xmlns=\"http://www.w3.org/2000/svg\"\n",
       "            xmlns:xlink=\"http://www.w3.org/1999/xlink\"\n",
       "            width=\"100.0\" height=\"100.0\" viewBox=\"-2.40000000000000 -1.40000000000000 4.80000000000000 2.80000000000000\"\n",
       "            preserveAspectRatio=\"xMinYMin meet\">\n",
       "            <defs>\n",
       "                <marker id=\"markerCircle\" markerWidth=\"8\" markerHeight=\"8\"\n",
       "                    refx=\"5\" refy=\"5\" markerUnits=\"strokeWidth\">\n",
       "                    <circle cx=\"5\" cy=\"5\" r=\"1.5\" style=\"stroke: none; fill:#000000;\"/>\n",
       "                </marker>\n",
       "                <marker id=\"markerArrow\" markerWidth=\"13\" markerHeight=\"13\" refx=\"2\" refy=\"4\"\n",
       "                       orient=\"auto\" markerUnits=\"strokeWidth\">\n",
       "                    <path d=\"M2,2 L2,6 L6,4\" style=\"fill: #000000;\" />\n",
       "                </marker>\n",
       "                <marker id=\"markerReverseArrow\" markerWidth=\"13\" markerHeight=\"13\" refx=\"6\" refy=\"4\"\n",
       "                       orient=\"auto\" markerUnits=\"strokeWidth\">\n",
       "                    <path d=\"M6,2 L6,6 L2,4\" style=\"fill: #000000;\" />\n",
       "                </marker>\n",
       "            </defs><g transform=\"matrix(1,0,0,-1,0,0)\"><ellipse fill=\"#66cc99\" stroke=\"#555555\" stroke-width=\"0.0960000000000000\" opacity=\"0.6\" cx=\"0\" cy=\"0\" rx=\"2.00000000000000\" ry=\"1.00000000000000\"/></g></svg>"
      ],
      "text/plain": [
       "Ellipse(Point2D(0, 0), 2, 1)"
      ]
     },
     "execution_count": 6,
     "metadata": {},
     "output_type": "execute_result"
    }
   ],
   "source": [
    "a0= 2\n",
    "b0= 1\n",
    "sympy.geometry.ellipse.Ellipse(center=sympy.geometry.Point(0,0), hradius=a0, vradius=b0, eccentricity=None)"
   ]
  },
  {
   "cell_type": "code",
   "execution_count": 14,
   "metadata": {
    "extensions": {
     "jupyter_dashboards": {
      "version": 1,
      "views": {
       "grid_default": {
        "col": 4,
        "height": 13,
        "hidden": false,
        "row": 14,
        "width": 4
       },
       "report_default": {
        "hidden": false
       }
      }
     }
    }
   },
   "outputs": [
    {
     "name": "stderr",
     "output_type": "stream",
     "text": [
      "/home/anacos/anaconda3/envs/workshop/lib/python3.6/site-packages/ipykernel_launcher.py:44: FutureWarning: `rcond` parameter will change to the default of machine precision times ``max(M, N)`` where M and N are the input matrix dimensions.\n",
      "To use the future default and silence this warning we advise to pass `rcond=None`, to keep using the old, explicitly pass `rcond=-1`.\n"
     ]
    },
    {
     "data": {
      "image/png": "[encoded data removed]",
      "text/plain": [
       "<matplotlib.figure.Figure at 0x7f4827057668>"
      ]
     },
     "metadata": {},
     "output_type": "display_data"
    }
   ],
   "source": [
    "#ellipse of major half axis a0 and minor half axis b0\n",
    "\n",
    "a0 = 2\n",
    "b0 = 1\n",
    "rho = 1\n",
    "m_ana11 = math.pi*rho*b0**2\n",
    "m_ana22 = math.pi*rho*a0**2\n",
    "m_ana66 = (1./8)*1*math.pi*(a0**2-b0**2)**2\n",
    "    \n",
    "matplotlib.pyplot.rc('text', usetex=True)\n",
    "matplotlib.pyplot.rc('font', family='serif')\n",
    "\n",
    "fig = matplotlib.pyplot.figure(figsize=[10,10])\n",
    "\n",
    "a11 = []\n",
    "a22 = []\n",
    "a66 = []\n",
    "vector=[100, 200, 400]\n",
    "for l, N in enumerate(vector):\n",
    "        \n",
    "    thetap = numpy.linspace(2*math.pi/N, 2*math.pi, N)\n",
    "    thetam = numpy.linspace(0, 2*math.pi*(N-1)/N, N)\n",
    "\n",
    "    xp = a0*numpy.cos(thetap)\n",
    "    yp = b0*numpy.sin(thetap)\n",
    "    xm = a0*numpy.cos(thetam)\n",
    "    ym = b0*numpy.sin(thetam)\n",
    "    barx = 0.5*(xp + xm)\n",
    "    bary = 0.5*(yp + ym)\n",
    "    ds = numpy.sqrt((xp - xm)**2 + (yp-ym)**2)\n",
    "  \n",
    "    nn1 = -(barx)/numpy.sqrt(barx**2 + bary**2*a0**4/b0**4)\n",
    "    \n",
    "    nn2 = -(bary)/numpy.sqrt(bary**2 + barx**2*b0**4/a0**4)\n",
    "    \n",
    "    nn6 = barx*nn2 - bary*nn1\n",
    "\n",
    "    pdcr1, a11j = func(xp, yp, xm, ym, barx, bary, nn1, N)\n",
    "\n",
    "    pdcr2, a22j = func(xp, yp, xm, ym, barx, bary, nn2, N)\n",
    "    pdcr6, a66j = func(xp, yp, xm, ym, barx, bary, nn6, N)\n",
    "    \n",
    "    a11.append(a11j/m_ana11)\n",
    "    a22.append(a22j/m_ana22)\n",
    "    a66.append(a66j/m_ana66)\n",
    "       \n",
    "matplotlib.pyplot.plot(1/numpy.array(vector),a11,'^',1/numpy.array(vector), a22,'v',1/numpy.array(vector),a66,'o')\n",
    "matplotlib.pyplot.xlabel(r' $\\frac{1}{N}  $ ', fontsize= 20)\n",
    "matplotlib.pyplot.legend([r'$\\frac{m_{11}}{\\pi \\rho b_0^2}$',r\"$\\frac{m_{22}}{\\pi\\rho a_0^2}$\",\n",
    "                          r\"$\\frac{m_{66}}{8\\pi\\rho(a_0^2-b_0^2)^2}$\"])\n",
    "matplotlib.pyplot.title('Ellipse $b_{0}/a_{0}$ = 0.5')\n",
    "\n",
    "fig.savefig('Ellipse1.pdf')\n",
    "matplotlib.pyplot.show()"
   ]
  },
  {
   "cell_type": "code",
   "execution_count": 15,
   "metadata": {},
   "outputs": [
    {
     "name": "stdout",
     "output_type": "stream",
     "text": [
      "a11 :  [0.9931043676683802, 0.9965718814567534, 0.998290974861119] a22 : [0.9865223453770564, 0.9932240682780765, 0.9966022674807866] a66 : [0.9786321564960416, 0.9895431240318305, 0.9948295117927394]\n"
     ]
    }
   ],
   "source": [
    "print('a11 : ', a11, 'a22 :', a22, 'a66 :', a66)"
   ]
  },
  {
   "cell_type": "code",
   "execution_count": 9,
   "metadata": {
    "extensions": {
     "jupyter_dashboards": {
      "version": 1,
      "views": {
       "grid_default": {
        "col": 8,
        "height": 5,
        "hidden": false,
        "row": 14,
        "width": null
       },
       "report_default": {
        "hidden": false
       }
      }
     }
    }
   },
   "outputs": [
    {
     "data": {
      "image/svg+xml": [
       "<svg xmlns=\"http://www.w3.org/2000/svg\"\n",
       "            xmlns:xlink=\"http://www.w3.org/1999/xlink\"\n",
       "            width=\"100.0\" height=\"100.0\" viewBox=\"-12.0000000000000 -3.00000000000000 24.0000000000000 6.00000000000000\"\n",
       "            preserveAspectRatio=\"xMinYMin meet\">\n",
       "            <defs>\n",
       "                <marker id=\"markerCircle\" markerWidth=\"8\" markerHeight=\"8\"\n",
       "                    refx=\"5\" refy=\"5\" markerUnits=\"strokeWidth\">\n",
       "                    <circle cx=\"5\" cy=\"5\" r=\"1.5\" style=\"stroke: none; fill:#000000;\"/>\n",
       "                </marker>\n",
       "                <marker id=\"markerArrow\" markerWidth=\"13\" markerHeight=\"13\" refx=\"2\" refy=\"4\"\n",
       "                       orient=\"auto\" markerUnits=\"strokeWidth\">\n",
       "                    <path d=\"M2,2 L2,6 L6,4\" style=\"fill: #000000;\" />\n",
       "                </marker>\n",
       "                <marker id=\"markerReverseArrow\" markerWidth=\"13\" markerHeight=\"13\" refx=\"6\" refy=\"4\"\n",
       "                       orient=\"auto\" markerUnits=\"strokeWidth\">\n",
       "                    <path d=\"M6,2 L6,6 L2,4\" style=\"fill: #000000;\" />\n",
       "                </marker>\n",
       "            </defs><g transform=\"matrix(1,0,0,-1,0,0)\"><ellipse fill=\"#66cc99\" stroke=\"#555555\" stroke-width=\"0.480000000000000\" opacity=\"0.6\" cx=\"0\" cy=\"0\" rx=\"10.0000000000000\" ry=\"1.00000000000000\"/></g></svg>"
      ],
      "text/plain": [
       "Ellipse(Point2D(0, 0), 10, 1)"
      ]
     },
     "execution_count": 9,
     "metadata": {},
     "output_type": "execute_result"
    }
   ],
   "source": [
    "a0= 10\n",
    "b0= 1\n",
    "sympy.geometry.ellipse.Ellipse(center=sympy.geometry.Point(0,0), hradius=a0, vradius=b0, eccentricity=None)"
   ]
  },
  {
   "cell_type": "code",
   "execution_count": 16,
   "metadata": {
    "extensions": {
     "jupyter_dashboards": {
      "version": 1,
      "views": {
       "grid_default": {
        "col": 8,
        "height": 13,
        "hidden": false,
        "row": 19,
        "width": 4
       },
       "report_default": {
        "hidden": false
       }
      }
     }
    }
   },
   "outputs": [
    {
     "name": "stderr",
     "output_type": "stream",
     "text": [
      "/home/anacos/anaconda3/envs/workshop/lib/python3.6/site-packages/ipykernel_launcher.py:44: FutureWarning: `rcond` parameter will change to the default of machine precision times ``max(M, N)`` where M and N are the input matrix dimensions.\n",
      "To use the future default and silence this warning we advise to pass `rcond=None`, to keep using the old, explicitly pass `rcond=-1`.\n"
     ]
    },
    {
     "data": {
      "image/png": "[encoded data removed]",
      "text/plain": [
       "<matplotlib.figure.Figure at 0x7f4825b5acf8>"
      ]
     },
     "metadata": {},
     "output_type": "display_data"
    }
   ],
   "source": [
    "#ellipse of major half axis a0 and minor half axis b0\n",
    "\n",
    "a0 = 10\n",
    "b0 = 1\n",
    "rho = 1\n",
    "m_ana11 = math.pi*rho*b0**2\n",
    "m_ana22 = math.pi*rho*a0**2        \n",
    "m_ana66 = (1./8)*1*math.pi*(a0**2-b0**2)**2\n",
    "    \n",
    "matplotlib.pyplot.rc('text', usetex=True)\n",
    "matplotlib.pyplot.rc('font', family='serif')\n",
    "\n",
    "fig = matplotlib.pyplot.figure(figsize=[10,10])\n",
    "\n",
    "a11 = []\n",
    "a22 = []\n",
    "a66 = []\n",
    "vector=[100, 200, 400]\n",
    "for l, N in enumerate(vector):\n",
    "        \n",
    "    thetap = numpy.linspace(2*math.pi/N, 2*math.pi, N)\n",
    "    thetam = numpy.linspace(0, 2*math.pi*(N-1)/N, N)\n",
    "\n",
    "    xp = a0*numpy.cos(thetap)\n",
    "    yp = b0*numpy.sin(thetap)\n",
    "    xm = a0*numpy.cos(thetam)\n",
    "    ym = b0*numpy.sin(thetam)\n",
    "    barx = 0.5*(xp + xm)\n",
    "    bary = 0.5*(yp + ym)\n",
    "    ds = numpy.sqrt((xp - xm)**2 + (yp-ym)**2)\n",
    "    #print(ds)\n",
    "    nn1 = -(barx)/numpy.sqrt(barx**2 + bary**2*a0**4/b0**4)\n",
    "    \n",
    "    nn2 = -(bary)/numpy.sqrt(bary**2 + barx**2*b0**4/a0**4)\n",
    "    \n",
    "    nn6 = barx*nn2 - bary*nn1\n",
    "   \n",
    "    pdcr1, a11j = func(xp, yp, xm, ym, barx, bary, nn1, N)\n",
    "\n",
    "    pdcr2, a22j = func(xp, yp, xm, ym, barx, bary, nn2, N)\n",
    "    pdcr6, a66j = func(xp, yp, xm, ym, barx, bary, nn6, N)\n",
    "    \n",
    "    a11.append(a11j/m_ana11)\n",
    "    a22.append(a22j/m_ana22)\n",
    "    a66.append(a66j/m_ana66)\n",
    "     \n",
    "matplotlib.pyplot.plot(1/numpy.array(vector),a11,'^',1/numpy.array(vector), a22,'v',1/numpy.array(vector),a66,'o')\n",
    "matplotlib.pyplot.xlabel(r' $\\frac{1}{N}  $ ', fontsize= 20)\n",
    "matplotlib.pyplot.legend([r'$\\frac{m_{11}}{\\pi \\rho b_0^2}$',r\"$\\frac{m_{22}}{\\pi\\rho a_0^2}$\",\n",
    "                          r\"$\\frac{m_{66}}{8\\pi\\rho(a_0^2-b_0^2)^2}$\"])\n",
    "matplotlib.pyplot.title('Ellipse $b_{0}/a_{0}$ = 0.1')\n",
    "\n",
    "fig.savefig('Ellipse2.pdf')\n",
    "matplotlib.pyplot.show()"
   ]
  },
  {
   "cell_type": "code",
   "execution_count": 17,
   "metadata": {},
   "outputs": [
    {
     "name": "stdout",
     "output_type": "stream",
     "text": [
      "a11 :  [0.9948613644723051, 0.9974647059009988, 0.9987412968909483] a22 : [0.951372431074255, 0.9753626981557668, 0.987594988065203] a66 : [0.9446691958631221, 0.9724248763873804, 0.9862342854489561]\n"
     ]
    }
   ],
   "source": [
    "print('a11 : ', a11, 'a22 :', a22, 'a66 :', a66)"
   ]
  },
  {
   "cell_type": "code",
   "execution_count": 12,
   "metadata": {
    "extensions": {
     "jupyter_dashboards": {
      "version": 1,
      "views": {
       "grid_default": {
        "col": 0,
        "height": 5,
        "hidden": false,
        "row": 32,
        "width": null
       },
       "report_default": {
        "hidden": false
       }
      }
     }
    }
   },
   "outputs": [
    {
     "data": {
      "image/svg+xml": [
       "<svg xmlns=\"http://www.w3.org/2000/svg\"\n",
       "            xmlns:xlink=\"http://www.w3.org/1999/xlink\"\n",
       "            width=\"100.0\" height=\"100.0\" viewBox=\"-1.20000000000000 -1.20000000000000 2.40000000000000 2.40000000000000\"\n",
       "            preserveAspectRatio=\"xMinYMin meet\">\n",
       "            <defs>\n",
       "                <marker id=\"markerCircle\" markerWidth=\"8\" markerHeight=\"8\"\n",
       "                    refx=\"5\" refy=\"5\" markerUnits=\"strokeWidth\">\n",
       "                    <circle cx=\"5\" cy=\"5\" r=\"1.5\" style=\"stroke: none; fill:#000000;\"/>\n",
       "                </marker>\n",
       "                <marker id=\"markerArrow\" markerWidth=\"13\" markerHeight=\"13\" refx=\"2\" refy=\"4\"\n",
       "                       orient=\"auto\" markerUnits=\"strokeWidth\">\n",
       "                    <path d=\"M2,2 L2,6 L6,4\" style=\"fill: #000000;\" />\n",
       "                </marker>\n",
       "                <marker id=\"markerReverseArrow\" markerWidth=\"13\" markerHeight=\"13\" refx=\"6\" refy=\"4\"\n",
       "                       orient=\"auto\" markerUnits=\"strokeWidth\">\n",
       "                    <path d=\"M6,2 L6,6 L2,4\" style=\"fill: #000000;\" />\n",
       "                </marker>\n",
       "            </defs><g transform=\"matrix(1,0,0,-1,0,0)\"><path fill-rule=\"evenodd\" fill=\"#66cc99\" stroke=\"#555555\" stroke-width=\"0.0480000000000000\" opacity=\"0.6\" d=\"M 1.00000000000000,-1.00000000000000 L 1.00000000000000,1.00000000000000 L -1.00000000000000,1.00000000000000 L -1.00000000000000,-1.00000000000000 z\" /></g></svg>"
      ],
      "text/plain": [
       "RegularPolygon(Point2D(0, 0), 1.41421356237310, 4, -0.785398163397448)"
      ]
     },
     "execution_count": 12,
     "metadata": {},
     "output_type": "execute_result"
    }
   ],
   "source": [
    "a0= 1.\n",
    "sympy.geometry.RegularPolygon(c=sympy.geometry.Point(0,0), r= a0*math.sqrt(2), n=4, rot=-math.pi/4)"
   ]
  },
  {
   "cell_type": "code",
   "execution_count": 21,
   "metadata": {
    "extensions": {
     "jupyter_dashboards": {
      "version": 1,
      "views": {
       "grid_default": {
        "col": 0,
        "height": 13,
        "hidden": false,
        "row": 37,
        "width": 4
       },
       "report_default": {
        "hidden": false
       }
      }
     }
    }
   },
   "outputs": [
    {
     "name": "stderr",
     "output_type": "stream",
     "text": [
      "/home/anacos/anaconda3/envs/workshop/lib/python3.6/site-packages/ipykernel_launcher.py:44: FutureWarning: `rcond` parameter will change to the default of machine precision times ``max(M, N)`` where M and N are the input matrix dimensions.\n",
      "To use the future default and silence this warning we advise to pass `rcond=None`, to keep using the old, explicitly pass `rcond=-1`.\n"
     ]
    },
    {
     "data": {
      "image/png": "[encoded data removed]",
      "text/plain": [
       "<matplotlib.figure.Figure at 0x7f48261f2d68>"
      ]
     },
     "metadata": {},
     "output_type": "display_data"
    }
   ],
   "source": [
    "fig = matplotlib.pyplot.figure(figsize=[10,10])\n",
    "a0= 1.\n",
    "m_ana11 = 4.754*a0**2\n",
    "m_ana22 = m_ana11\n",
    "m_ana66 = 0.725*a0**4\n",
    "nr = 0\n",
    "vector=[50,100,200, 400] #number of points around the circumference of the square\n",
    "N_inv = numpy.zeros(len(vector))\n",
    "a11 = numpy.zeros(len(vector))\n",
    "a22 = numpy.zeros(len(vector))\n",
    "a66 = numpy.zeros(len(vector))\n",
    "vector_ = []\n",
    "for N in vector:\n",
    "\n",
    "    n1 = int(N/8.)   #check if N is multiple of 8. If not, choose a multiple of 8.\n",
    "    n = n1*2\n",
    "    vector_.append(n*4)\n",
    "    N_inv[nr] = 1./(n*4)\n",
    "    x = []\n",
    "    y = []\n",
    "    \n",
    "    x.extend(numpy.zeros(n)+a0)\n",
    "    x.extend(numpy.linspace(a0, -a0*(n-2.)/n, n))\n",
    "    x.extend(numpy.zeros(n)-a0)\n",
    "    x.extend(numpy.linspace(-a0, a0*(n-2.)/n, n))\n",
    "    y.extend(numpy.linspace(-a0, a0*(n-2.)/n, n))\n",
    "    y.extend(numpy.zeros(n)+a0)\n",
    "    y.extend(numpy.linspace(a0, -a0*(n-2.)/n, n))\n",
    "    y.extend(numpy.zeros(n)-a0)\n",
    "    \n",
    "    #print('lenx',len(x))\n",
    "    #print('x', x)\n",
    "    #print('y', y)\n",
    "    xm, ym = numpy.roll(x, -n1), numpy.roll(y,-n1)\n",
    "    xp, yp = numpy.roll(xm,-1), numpy.roll(ym,-1)\n",
    "\n",
    "        \n",
    "    barx = 0.5*(xp + xm)\n",
    "    bary = 0.5*(yp + ym)\n",
    "\n",
    "    nn1 = numpy.zeros(n*4)\n",
    "    nn2 = numpy.zeros(n*4)\n",
    "    nn6 = numpy.zeros(n*4)\n",
    "    for i in range(n*4):\n",
    "            if round(barx[i],5) == round(a0,5):\n",
    "                nn1[i] = -1\n",
    "            if round(barx[i],5) == - round(a0,5):\n",
    "                nn1[i] = 1\n",
    "            if round(bary[i],5) == round(a0,5):\n",
    "                nn2[i] = - 1\n",
    "            if round(bary[i],5) == - round(a0,5):\n",
    "                nn2[i] = 1\n",
    "  \n",
    "    nn6 = barx*nn2 - bary*nn1\n",
    "       \n",
    "    pdcr1, a11j = func(xp, yp, xm, ym, barx, bary, nn1, 4*n)\n",
    "\n",
    "    pdcr2, a22j = func(xp, yp, xm, ym, barx, bary, nn2, 4*n)\n",
    "    pdcr6, a66j = func(xp, yp, xm, ym, barx, bary, nn6, 4*n)\n",
    "    \n",
    "    \n",
    "    a11[nr] = a11j/m_ana11\n",
    "    a22[nr] = a22j/m_ana22\n",
    "    a66[nr] = a66j/m_ana66\n",
    "    \n",
    "    nr = nr +1\n",
    "\n",
    "pan = -a0**2*((4.754/2)+2)/math.pi*barx/(barx**2+bary**2) \n",
    "\n",
    "matplotlib.pyplot.plot(N_inv,a11,'^',N_inv, a22,'v',N_inv,a66,'o')\n",
    "matplotlib.pyplot.xlabel(r' $\\frac{1}{N}  $ ', fontsize= 20)\n",
    "matplotlib.pyplot.legend([r'$\\frac{m_{11}}{4.754\\rho a_0^2}$',r\"$\\frac{m_{22}}{4.754\\rho a_0^2}$\",\n",
    "                          r\"$\\frac{m_{66}}{0.725\\rho a_0^4}$\"])\n",
    "matplotlib.pyplot.title('Square ')\n",
    "matplotlib.pyplot.show()\n",
    "fig.savefig('Square.pdf')"
   ]
  },
  {
   "cell_type": "code",
   "execution_count": 22,
   "metadata": {
    "extensions": {
     "jupyter_dashboards": {
      "version": 1,
      "views": {
       "grid_default": {
        "hidden": true
       },
       "report_default": {
        "hidden": true
       }
      }
     }
    }
   },
   "outputs": [
    {
     "name": "stdout",
     "output_type": "stream",
     "text": [
      "a11 :  [0.98495137 0.99114504 0.99513619 0.99730372] a22 : [0.98495137 0.99114504 0.99513619 0.99730372] a66 : [0.9395786  0.96503663 0.98029679 0.98860915]\n"
     ]
    }
   ],
   "source": [
    "print('a11 : ', a11, 'a22 :', a22, 'a66 :', a66)"
   ]
  },
  {
   "cell_type": "code",
   "execution_count": null,
   "metadata": {},
   "outputs": [],
   "source": []
  }
 ],
 "metadata": {
  "extensions": {
   "jupyter_dashboards": {
    "activeView": "grid_default",
    "version": 1,
    "views": {
     "grid_default": {
      "cellMargin": 10,
      "defaultCellHeight": 20,
      "maxColumns": 12,
      "name": "grid",
      "type": "grid"
     },
     "report_default": {
      "name": "report",
      "type": "report"
     }
    }
   }
  },
  "kernelspec": {
   "display_name": "Python 3",
   "language": "python",
   "name": "python3"
  },
  "language_info": {
   "codemirror_mode": {
    "name": "ipython",
    "version": 3
   },
   "file_extension": ".py",
   "mimetype": "text/x-python",
   "name": "python",
   "nbconvert_exporter": "python",
   "pygments_lexer": "ipython3",
   "version": "3.6.4"
  },
  "widgets": {
   "application/vnd.jupyter.widget-state+json": {
    "state": {},
    "version_major": 2,
    "version_minor": 0
   }
  }
 },
 "nbformat": 4,
 "nbformat_minor": 2
}
